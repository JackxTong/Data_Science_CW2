{
 "cells": [
  {
   "cell_type": "markdown",
   "metadata": {},
   "source": [
    "# Market Data pipeline\n",
    "\n",
    "This breifly introduces the [market data](https://www.marketdata.app/) API I used.\n",
    "\n",
    "I registered an account with Market data, then requested an API_key (will be sent to you in email). I store the API key in an `.env` file, then fetch the API_key using `os.getenv`. I added the `.env` file to `.gitignore` so that it is not tracked by git, so that I don't accidentally push my API key to github. The API key can be fetched by doing:"
   ]
  },
  {
   "cell_type": "code",
   "execution_count": 1,
   "metadata": {},
   "outputs": [
    {
     "name": "stdout",
     "output_type": "stream",
     "text": [
      "API key found.\n"
     ]
    }
   ],
   "source": [
    "import requests\n",
    "import pandas as pd\n",
    "import os\n",
    "from dotenv import load_dotenv\n",
    "load_dotenv()\n",
    "API_KEY = os.getenv(\"MARKETDATA_API_KEY\")\n",
    "if API_KEY:\n",
    "    print(\"API key found.\")\n",
    "else:\n",
    "    raise ValueError(\"API key not found. Please store your API key in a .env file.\")"
   ]
  },
  {
   "cell_type": "markdown",
   "metadata": {},
   "source": [
    "Then using this key, I can send a REST API request for the options data.\n",
    "If response is the 200 code, this means the request is successful, and I save the data csv into `option_data` folder.\n",
    "\n",
    "I wrote the following code into a script at `scripts/fetch_options.py`, and call it in my analysis notebook."
   ]
  },
  {
   "cell_type": "code",
   "execution_count": 3,
   "metadata": {},
   "outputs": [
    {
     "name": "stdout",
     "output_type": "stream",
     "text": [
      "CSV data saved to ../option_data/options_AAPL.csv\n"
     ]
    }
   ],
   "source": [
    "url = \"https://api.marketdata.app/v1/options/chain/AAPL/\"\n",
    "params = {\n",
    "    \"symbol\": \"AAPL\",         \n",
    "    \"start_date\": \"2023-01-01\",  \n",
    "    \"end_date\": \"2025-01-17\",  \n",
    "    \"type\": \"call\",          \n",
    "    \"apikey\": API_KEY,\n",
    "    \"format\": \"csv\"\n",
    "}\n",
    "response = requests.get(url, params=params)\n",
    "if response.status_code == 200:\n",
    "    # Save the CSV content to a file\n",
    "    csv_filename = f\"../option_data/options_{params['symbol']}.csv\"\n",
    "    with open(csv_filename, \"wb\") as file:\n",
    "        file.write(response.content)\n",
    "    print(f\"CSV data saved to {csv_filename}\")\n",
    "else:\n",
    "    print(f\"Error: {response.status_code} - {response.text}\")"
   ]
  }
 ],
 "metadata": {
  "kernelspec": {
   "display_name": "ds_venv",
   "language": "python",
   "name": "python3"
  },
  "language_info": {
   "codemirror_mode": {
    "name": "ipython",
    "version": 3
   },
   "file_extension": ".py",
   "mimetype": "text/x-python",
   "name": "python",
   "nbconvert_exporter": "python",
   "pygments_lexer": "ipython3",
   "version": "3.11.4"
  }
 },
 "nbformat": 4,
 "nbformat_minor": 2
}
